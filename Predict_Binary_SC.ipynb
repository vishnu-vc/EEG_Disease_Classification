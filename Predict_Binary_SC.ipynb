{
 "cells": [
  {
   "cell_type": "code",
   "execution_count": 1,
   "id": "e657df26",
   "metadata": {},
   "outputs": [],
   "source": [
    "from glob import glob\n",
    "import os\n",
    "import joblib\n",
    "import mne\n",
    "import numpy as np\n",
    "import pandas as pd\n",
    "import matplotlib.pyplot as plt\n"
   ]
  },
  {
   "cell_type": "code",
   "execution_count": 2,
   "id": "1a85dd9d",
   "metadata": {},
   "outputs": [],
   "source": [
    "#Test with SET files\n",
    "def read_data_test(file_path):\n",
    "    data=mne.io.read_raw_eeglab(file_path,preload=True)\n",
    "    data.set_eeg_reference()\n",
    "    #data.filter(l_freq=0.5,h_freq=45)\n",
    "    epochs=mne.make_fixed_length_epochs(data,duration=5,overlap=1)\n",
    "    array=epochs.get_data()\n",
    "    return array"
   ]
  },
  {
   "cell_type": "code",
   "execution_count": 3,
   "id": "b774b16f",
   "metadata": {},
   "outputs": [],
   "source": [
    "#Test with EDF files\n",
    "def read_data_test_edf(file_path):\n",
    "    data=mne.io.read_raw_edf(file_path,preload=True)\n",
    "    data.set_eeg_reference()\n",
    "    data.filter(l_freq=0.5,h_freq=45)\n",
    "    epochs=mne.make_fixed_length_epochs(data,duration=5,overlap=1)\n",
    "    array=epochs.get_data()\n",
    "    return array"
   ]
  },
  {
   "cell_type": "code",
   "execution_count": 4,
   "id": "2419721d",
   "metadata": {},
   "outputs": [],
   "source": [
    "from scipy import stats\n",
    "\n",
    "def mean(data):\n",
    "    return np.mean(data,axis=-1)\n",
    "    \n",
    "def std(data):\n",
    "    return np.std(data,axis=-1)\n",
    "\n",
    "def ptp(data):\n",
    "    return np.ptp(data,axis=-1)\n",
    "\n",
    "def var(data):\n",
    "        return np.var(data,axis=-1)\n",
    "\n",
    "def minim(data):\n",
    "      return np.min(data,axis=-1)\n",
    "\n",
    "\n",
    "def maxim(data):\n",
    "      return np.max(data,axis=-1)\n",
    "\n",
    "def argminim(data):\n",
    "      return np.argmin(data,axis=-1)\n",
    "\n",
    "\n",
    "def argmaxim(data):\n",
    "      return np.argmax(data,axis=-1)\n",
    "\n",
    "def mean_square(data):\n",
    "      return np.mean(data**2,axis=-1)\n",
    "\n",
    "def rms(data): #root mean square\n",
    "      return  np.sqrt(np.mean(data**2,axis=-1))  \n",
    "\n",
    "def abs_diffs_signal(data):\n",
    "    return np.sum(np.abs(np.diff(data,axis=-1)),axis=-1)\n",
    "\n",
    "def skewness(data):\n",
    "    return stats.skew(data,axis=-1)\n",
    "\n",
    "def kurtosis(data):\n",
    "    return stats.kurtosis(data,axis=-1)\n",
    "\n",
    "def concatenate_features(data):\n",
    "    return np.concatenate((mean(data),std(data),ptp(data),var(data),minim(data),maxim(data),argminim(data),argmaxim(data),\n",
    "                          mean_square(data),rms(data),abs_diffs_signal(data),\n",
    "                          skewness(data),kurtosis(data)),axis=-1)"
   ]
  },
  {
   "cell_type": "code",
   "execution_count": 5,
   "id": "d20ec726",
   "metadata": {},
   "outputs": [],
   "source": [
    "test_dict={0:'Sick',1:'Healthy'}"
   ]
  },
  {
   "cell_type": "code",
   "execution_count": 6,
   "id": "2dbd5d7d",
   "metadata": {},
   "outputs": [
    {
     "name": "stdout",
     "output_type": "stream",
     "text": [
      "23\n"
     ]
    }
   ],
   "source": [
    "test_file_path=glob('derivatives/F/*.set')\n",
    "print(len(test_file_path))"
   ]
  },
  {
   "cell_type": "code",
   "execution_count": 7,
   "id": "7dc80026",
   "metadata": {},
   "outputs": [],
   "source": [
    "%%capture\n",
    "sample_data_pred=read_data_test(test_file_path[3])"
   ]
  },
  {
   "cell_type": "code",
   "execution_count": 8,
   "id": "02f54d97",
   "metadata": {},
   "outputs": [
    {
     "name": "stderr",
     "output_type": "stream",
     "text": [
      "C:\\Users\\91904\\AppData\\Local\\Temp\\ipykernel_14396\\2936894702.py:3: TqdmDeprecationWarning: This function will be removed in tqdm==5.0.0\n",
      "Please use `tqdm.notebook.tqdm` instead of `tqdm.tqdm_notebook`\n",
      "  for data in tqdm_notebook(sample_data_pred):\n"
     ]
    },
    {
     "data": {
      "application/vnd.jupyter.widget-view+json": {
       "model_id": "1260c27dcfd04e8aaf7aba29ba8c82d2",
       "version_major": 2,
       "version_minor": 0
      },
      "text/plain": [
       "  0%|          | 0/158 [00:00<?, ?it/s]"
      ]
     },
     "metadata": {},
     "output_type": "display_data"
    },
    {
     "data": {
      "text/plain": [
       "(158, 247)"
      ]
     },
     "execution_count": 8,
     "metadata": {},
     "output_type": "execute_result"
    }
   ],
   "source": [
    "from tqdm import tqdm_notebook\n",
    "featuress=[]\n",
    "for data in tqdm_notebook(sample_data_pred):\n",
    "    featuress.append(concatenate_features(data))\n",
    "featuress=np.array(featuress)\n",
    "featuress.shape"
   ]
  },
  {
   "cell_type": "code",
   "execution_count": 9,
   "id": "2e3b43af",
   "metadata": {},
   "outputs": [
    {
     "data": {
      "text/plain": [
       "'Sick'"
      ]
     },
     "execution_count": 9,
     "metadata": {},
     "output_type": "execute_result"
    }
   ],
   "source": [
    "loaded_model = joblib.load('models/LR_SC.sav')\n",
    "test_dict.get(np.bincount(loaded_model.predict(featuress)).argmax())"
   ]
  },
  {
   "cell_type": "code",
   "execution_count": 10,
   "id": "aa2c4082",
   "metadata": {},
   "outputs": [
    {
     "data": {
      "text/plain": [
       "'Sick'"
      ]
     },
     "execution_count": 10,
     "metadata": {},
     "output_type": "execute_result"
    }
   ],
   "source": [
    "loaded_model = joblib.load('models/LDA_Kfold_SC.sav')\n",
    "test_dict.get(np.bincount(loaded_model.predict(featuress)).argmax())"
   ]
  },
  {
   "cell_type": "code",
   "execution_count": 11,
   "id": "bf6e8c84",
   "metadata": {},
   "outputs": [
    {
     "data": {
      "text/plain": [
       "'Sick'"
      ]
     },
     "execution_count": 11,
     "metadata": {},
     "output_type": "execute_result"
    }
   ],
   "source": [
    "loaded_model = joblib.load('models/XGboost_SC.sav')\n",
    "test_dict.get(np.bincount(loaded_model.predict(featuress)).argmax())"
   ]
  },
  {
   "cell_type": "code",
   "execution_count": null,
   "id": "3e35157a",
   "metadata": {},
   "outputs": [],
   "source": []
  }
 ],
 "metadata": {
  "kernelspec": {
   "display_name": "Python 3 (ipykernel)",
   "language": "python",
   "name": "python3"
  },
  "language_info": {
   "codemirror_mode": {
    "name": "ipython",
    "version": 3
   },
   "file_extension": ".py",
   "mimetype": "text/x-python",
   "name": "python",
   "nbconvert_exporter": "python",
   "pygments_lexer": "ipython3",
   "version": "3.9.16"
  }
 },
 "nbformat": 4,
 "nbformat_minor": 5
}
